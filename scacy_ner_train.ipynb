{
  "nbformat": 4,
  "nbformat_minor": 0,
  "metadata": {
    "colab": {
      "provenance": [],
      "authorship_tag": "ABX9TyPN5mNj5XpEInh/JP1iDimY",
      "include_colab_link": true
    },
    "kernelspec": {
      "name": "python3",
      "display_name": "Python 3"
    }
  },
  "cells": [
    {
      "cell_type": "markdown",
      "metadata": {
        "id": "view-in-github",
        "colab_type": "text"
      },
      "source": [
        "<a href=\"https://colab.research.google.com/github/sjut/DPO_Materials/blob/master/scacy_ner_train.ipynb\" target=\"_parent\"><img src=\"https://colab.research.google.com/assets/colab-badge.svg\" alt=\"Open In Colab\"/></a>"
      ]
    },
    {
      "cell_type": "markdown",
      "metadata": {
        "id": "606MJi3Gx9DH"
      },
      "source": [
        "Извлечени информации\n",
        "https://medium.com/analytics-vidhya/introduction-to-information-extraction-using-python-and-spacy-858f5d6416ca"
      ]
    },
    {
      "cell_type": "code",
      "metadata": {
        "id": "zDYs2Yrjx8L5"
      },
      "source": [
        "import re\n",
        "import string\n",
        "import nltk\n",
        "import spacy\n",
        "import pandas as pd\n",
        "import numpy as np\n",
        "import math\n",
        "from tqdm import tqdm\n",
        "\n",
        "from spacy.matcher import Matcher\n",
        "from spacy.tokens import Span\n",
        "from spacy import displacy\n",
        "\n",
        "pd.set_option('display.max_colwidth', 200)"
      ],
      "execution_count": null,
      "outputs": []
    },
    {
      "cell_type": "markdown",
      "metadata": {
        "id": "ZMUTDKLex97k"
      },
      "source": []
    },
    {
      "cell_type": "code",
      "metadata": {
        "id": "zYnzwi6ayHYU"
      },
      "source": [
        "# load spaCy model\n",
        "nlp = spacy.load(\"en_core_web_sm\")"
      ],
      "execution_count": null,
      "outputs": []
    },
    {
      "cell_type": "code",
      "metadata": {
        "id": "pl1TKbA5ydKd"
      },
      "source": [
        "# sample text\n",
        "text = \"GDP in developing countries such as Vietnam will continue growing at a high rate.\"\n",
        "\n",
        "# create a spaCy object\n",
        "doc = nlp(text)"
      ],
      "execution_count": null,
      "outputs": []
    },
    {
      "cell_type": "markdown",
      "metadata": {
        "id": "HjIc7vdXymWM"
      },
      "source": [
        "To be able to pull out the desired information from the above sentence, it is really important to understand its syntactic structure — things like the subject, object, modifiers, and parts-of-speech (POS) in the sentence."
      ]
    },
    {
      "cell_type": "code",
      "metadata": {
        "id": "vUG6aZhuyn6V",
        "colab": {
          "base_uri": "https://localhost:8080/"
        },
        "outputId": "2f81d071-a2f5-4bbb-b6c5-ef9d4fad5537"
      },
      "source": [
        "# print token, dependency, POS tag\n",
        "for tok in doc:\n",
        "  print(tok.text, \"-->\",tok.dep_,\"-->\", tok.pos_)"
      ],
      "execution_count": null,
      "outputs": [
        {
          "output_type": "stream",
          "name": "stdout",
          "text": [
            "GDP --> nsubj --> NOUN\n",
            "in --> prep --> ADP\n",
            "developing --> amod --> VERB\n",
            "countries --> pobj --> NOUN\n",
            "such --> amod --> ADJ\n",
            "as --> prep --> ADP\n",
            "Vietnam --> pobj --> PROPN\n",
            "will --> aux --> AUX\n",
            "continue --> ROOT --> VERB\n",
            "growing --> xcomp --> VERB\n",
            "at --> prep --> ADP\n",
            "a --> det --> DET\n",
            "high --> amod --> ADJ\n",
            "rate --> pobj --> NOUN\n",
            ". --> punct --> PUNCT\n"
          ]
        }
      ]
    },
    {
      "cell_type": "markdown",
      "metadata": {
        "id": "ANCMx1gEzN69"
      },
      "source": []
    },
    {
      "cell_type": "code",
      "metadata": {
        "id": "raCDMtLyzMF8"
      },
      "source": [
        "#define the pattern\n",
        "pattern = [{'POS':'NOUN'},\n",
        "           {'LOWER': 'such'},\n",
        "           {'LOWER': 'as'},\n",
        "           {'POS': 'PROPN'} #proper noun\n",
        "           ]"
      ],
      "execution_count": null,
      "outputs": []
    },
    {
      "cell_type": "code",
      "metadata": {
        "id": "CiRQYRe4zeKm",
        "colab": {
          "base_uri": "https://localhost:8080/"
        },
        "outputId": "40310197-8622-45c4-c343-d340b315841c"
      },
      "source": [
        "# Matcher class object\n",
        "matcher = Matcher(nlp.vocab)\n",
        "matcher.add(\"matching_1\", [pattern])\n",
        "\n",
        "matches = matcher(doc)\n",
        "span = doc[matches[0][1]:matches[0][2]]\n",
        "\n",
        "print(span.text)"
      ],
      "execution_count": null,
      "outputs": [
        {
          "output_type": "stream",
          "name": "stdout",
          "text": [
            "countries such as Vietnam\n"
          ]
        }
      ]
    },
    {
      "cell_type": "code",
      "metadata": {
        "id": "qTbLMr_Jzt1W",
        "colab": {
          "base_uri": "https://localhost:8080/"
        },
        "outputId": "40cf1d07-d149-49d4-bcc3-c8454ffc01f6"
      },
      "source": [
        "# Matcher class object\n",
        "matcher = Matcher(nlp.vocab)\n",
        "\n",
        "#define the pattern\n",
        "pattern = [{'DEP':'amod', 'OP':\"?\"}, # adjectival modifier\n",
        "           {'POS':'NOUN'},\n",
        "           {'LOWER': 'such'},\n",
        "           {'LOWER': 'as'},\n",
        "           {'POS': 'PROPN'}]\n",
        "\n",
        "matcher.add(\"matching_1\", [pattern])\n",
        "matches = matcher(doc)\n",
        "\n",
        "span = doc[matches[0][1]:matches[0][2]]\n",
        "print(span.text)"
      ],
      "execution_count": null,
      "outputs": [
        {
          "output_type": "stream",
          "name": "stdout",
          "text": [
            "developing countries such as Vietnam\n"
          ]
        }
      ]
    },
    {
      "cell_type": "markdown",
      "metadata": {
        "id": "9PSQrcdez-zl"
      },
      "source": [
        "Note: The key ‘OP’: ‘?’ in the pattern above means that the modifier (‘amod’) can occur once or not at all."
      ]
    },
    {
      "cell_type": "code",
      "metadata": {
        "id": "ypQcGRg9z_sH",
        "colab": {
          "base_uri": "https://localhost:8080/"
        },
        "outputId": "dbd0a209-2c32-454a-b978-d6758b7dd3ef"
      },
      "source": [
        "doc = nlp(\"Here is how you can keep your car and other vehicles clean.\")\n",
        "\n",
        "# print dependency tags and POS tags\n",
        "for tok in doc:\n",
        "  print(tok.text, \"-->\",tok.dep_, \"-->\",tok.pos_)"
      ],
      "execution_count": null,
      "outputs": [
        {
          "output_type": "stream",
          "name": "stdout",
          "text": [
            "Here --> advmod --> ADV\n",
            "is --> ROOT --> AUX\n",
            "how --> advmod --> SCONJ\n",
            "you --> nsubj --> PRON\n",
            "can --> aux --> AUX\n",
            "keep --> ccomp --> VERB\n",
            "your --> poss --> PRON\n",
            "car --> dobj --> NOUN\n",
            "and --> cc --> CCONJ\n",
            "other --> amod --> ADJ\n",
            "vehicles --> conj --> NOUN\n",
            "clean --> oprd --> ADJ\n",
            ". --> punct --> PUNCT\n"
          ]
        }
      ]
    },
    {
      "cell_type": "code",
      "metadata": {
        "id": "ucKHauIO0VwO",
        "colab": {
          "base_uri": "https://localhost:8080/"
        },
        "outputId": "65eda7fe-5025-488f-f1de-e3245999818e"
      },
      "source": [
        "# Matcher class object\n",
        "matcher = Matcher(nlp.vocab)\n",
        "\n",
        "#define the pattern\n",
        "pattern = [{'DEP':'amod', 'OP':\"?\"},\n",
        "           {'POS':'NOUN'},\n",
        "           {'LOWER': 'and', 'OP':\"?\"},\n",
        "           {'LOWER': 'or', 'OP':\"?\"},\n",
        "           {'LOWER': 'other'},\n",
        "           {'POS': 'NOUN'}]\n",
        "\n",
        "matcher.add(\"matching_1\", [pattern])\n",
        "\n",
        "matches = matcher(doc)\n",
        "span = doc[matches[0][1]:matches[0][2]]\n",
        "print(span.text)"
      ],
      "execution_count": null,
      "outputs": [
        {
          "output_type": "stream",
          "name": "stdout",
          "text": [
            "car and other vehicles\n"
          ]
        }
      ]
    },
    {
      "cell_type": "code",
      "metadata": {
        "id": "di9YFXtZ0heW",
        "colab": {
          "base_uri": "https://localhost:8080/"
        },
        "outputId": "78e7a612-42ff-41c6-f2cd-e728689334a3"
      },
      "source": [
        "# Matcher class object\n",
        "matcher = Matcher(nlp.vocab)\n",
        "\n",
        "#define the pattern\n",
        "pattern = [{'DEP':'amod', 'OP':\"?\"},\n",
        "           {'POS':'NOUN'},\n",
        "           {'LOWER': 'and', 'OP':\"?\"},\n",
        "           {'LOWER': 'or', 'OP':\"?\"},\n",
        "           {'LOWER': 'other'},\n",
        "           {'POS': 'NOUN'}]\n",
        "\n",
        "matcher.add(\"matching_1\", [pattern])\n",
        "\n",
        "matches = matcher(doc)\n",
        "span = doc[matches[0][1]:matches[0][2]]\n",
        "print(span.text)"
      ],
      "execution_count": null,
      "outputs": [
        {
          "output_type": "stream",
          "name": "stdout",
          "text": [
            "car and other vehicles\n"
          ]
        }
      ]
    },
    {
      "cell_type": "code",
      "metadata": {
        "id": "zG84_fXG0rSW",
        "colab": {
          "base_uri": "https://localhost:8080/"
        },
        "outputId": "835996d1-3534-43ce-b4b6-08f894d19a7c"
      },
      "source": [
        "# Matcher class object\n",
        "doc = nlp(\" ‘Eight people, including two children\")\n",
        "matcher = Matcher(nlp.vocab)\n",
        "\n",
        "#define the pattern\n",
        "pattern = [{'DEP':'nummod','OP':\"?\"}, # numeric modifier\n",
        "           {'DEP':'amod','OP':\"?\"}, # adjectival modifier\n",
        "           {'POS':'NOUN'},\n",
        "           {'IS_PUNCT': True},\n",
        "           {'LOWER': 'including'},\n",
        "           {'DEP':'nummod','OP':\"?\"},\n",
        "           {'DEP':'amod','OP':\"?\"},\n",
        "           {'POS':'NOUN'}]\n",
        "\n",
        "matcher.add(\"matching_1\", [pattern])\n",
        "\n",
        "matches = matcher(doc)\n",
        "span = doc[matches[0][1]:matches[0][2]]\n",
        "print(span.text)\n"
      ],
      "execution_count": null,
      "outputs": [
        {
          "output_type": "stream",
          "name": "stdout",
          "text": [
            "Eight people, including two children\n"
          ]
        }
      ]
    },
    {
      "cell_type": "code",
      "metadata": {
        "id": "nkQiR3Ah1KVy",
        "colab": {
          "base_uri": "https://localhost:8080/"
        },
        "outputId": "0e190a8a-43f9-4956-b722-5dee5da818f8"
      },
      "source": [
        "doc = nlp(\"A healthy eating pattern includes fruits, especially whole fruits.\")\n",
        "\n",
        "for tok in doc:\n",
        "  print(tok.text, tok.dep_, tok.pos_)"
      ],
      "execution_count": null,
      "outputs": [
        {
          "output_type": "stream",
          "name": "stdout",
          "text": [
            "A det DET\n",
            "healthy amod ADJ\n",
            "eating compound NOUN\n",
            "pattern nsubj NOUN\n",
            "includes ROOT VERB\n",
            "fruits dobj NOUN\n",
            ", punct PUNCT\n",
            "especially advmod ADV\n",
            "whole amod ADJ\n",
            "fruits appos NOUN\n",
            ". punct PUNCT\n"
          ]
        }
      ]
    },
    {
      "cell_type": "code",
      "metadata": {
        "id": "_MBViZF71PnO",
        "colab": {
          "base_uri": "https://localhost:8080/"
        },
        "outputId": "03169c39-2d80-4973-cfaf-d7b2bad86cbd"
      },
      "source": [
        "# Matcher class object\n",
        "matcher = Matcher(nlp.vocab)\n",
        "\n",
        "#define the pattern\n",
        "pattern = [{'DEP':'nummod','OP':\"?\"},\n",
        "           {'DEP':'amod','OP':\"?\"},\n",
        "           {'POS':'NOUN'},\n",
        "           {'IS_PUNCT':True},\n",
        "           {'LOWER': 'especially'},\n",
        "           {'DEP':'nummod','OP':\"?\"},\n",
        "           {'DEP':'amod','OP':\"?\"},\n",
        "           {'POS':'NOUN'}]\n",
        "\n",
        "matcher.add(\"matching_1\", [pattern])\n",
        "\n",
        "matches = matcher(doc)\n",
        "span = doc[matches[0][1]:matches[0][2]]\n",
        "print(span.text)"
      ],
      "execution_count": null,
      "outputs": [
        {
          "output_type": "stream",
          "name": "stdout",
          "text": [
            "fruits, especially whole fruits\n"
          ]
        }
      ]
    },
    {
      "cell_type": "code",
      "metadata": {
        "id": "pkBPJN5j1cE-",
        "colab": {
          "base_uri": "https://localhost:8080/",
          "height": 421
        },
        "outputId": "66824d71-4fb3-4a63-8c02-a1863f2bfd6a"
      },
      "source": [
        "text = \"Tableau was recently acquired by Salesforce.\"\n",
        "\n",
        "# Plot the dependency graph\n",
        "doc = nlp(text)\n",
        "displacy.render(doc, style='dep',jupyter=True)"
      ],
      "execution_count": null,
      "outputs": [
        {
          "output_type": "display_data",
          "data": {
            "text/plain": [
              "<IPython.core.display.HTML object>"
            ],
            "text/html": [
              "<span class=\"tex2jax_ignore\"><svg xmlns=\"http://www.w3.org/2000/svg\" xmlns:xlink=\"http://www.w3.org/1999/xlink\" xml:lang=\"en\" id=\"b7e5373656cf4bcf8776ca72251788d7-0\" class=\"displacy\" width=\"1100\" height=\"399.5\" direction=\"ltr\" style=\"max-width: none; height: 399.5px; color: #000000; background: #ffffff; font-family: Arial; direction: ltr\">\n",
              "<text class=\"displacy-token\" fill=\"currentColor\" text-anchor=\"middle\" y=\"309.5\">\n",
              "    <tspan class=\"displacy-word\" fill=\"currentColor\" x=\"50\">Tableau</tspan>\n",
              "    <tspan class=\"displacy-tag\" dy=\"2em\" fill=\"currentColor\" x=\"50\">PROPN</tspan>\n",
              "</text>\n",
              "\n",
              "<text class=\"displacy-token\" fill=\"currentColor\" text-anchor=\"middle\" y=\"309.5\">\n",
              "    <tspan class=\"displacy-word\" fill=\"currentColor\" x=\"225\">was</tspan>\n",
              "    <tspan class=\"displacy-tag\" dy=\"2em\" fill=\"currentColor\" x=\"225\">AUX</tspan>\n",
              "</text>\n",
              "\n",
              "<text class=\"displacy-token\" fill=\"currentColor\" text-anchor=\"middle\" y=\"309.5\">\n",
              "    <tspan class=\"displacy-word\" fill=\"currentColor\" x=\"400\">recently</tspan>\n",
              "    <tspan class=\"displacy-tag\" dy=\"2em\" fill=\"currentColor\" x=\"400\">ADV</tspan>\n",
              "</text>\n",
              "\n",
              "<text class=\"displacy-token\" fill=\"currentColor\" text-anchor=\"middle\" y=\"309.5\">\n",
              "    <tspan class=\"displacy-word\" fill=\"currentColor\" x=\"575\">acquired</tspan>\n",
              "    <tspan class=\"displacy-tag\" dy=\"2em\" fill=\"currentColor\" x=\"575\">VERB</tspan>\n",
              "</text>\n",
              "\n",
              "<text class=\"displacy-token\" fill=\"currentColor\" text-anchor=\"middle\" y=\"309.5\">\n",
              "    <tspan class=\"displacy-word\" fill=\"currentColor\" x=\"750\">by</tspan>\n",
              "    <tspan class=\"displacy-tag\" dy=\"2em\" fill=\"currentColor\" x=\"750\">ADP</tspan>\n",
              "</text>\n",
              "\n",
              "<text class=\"displacy-token\" fill=\"currentColor\" text-anchor=\"middle\" y=\"309.5\">\n",
              "    <tspan class=\"displacy-word\" fill=\"currentColor\" x=\"925\">Salesforce.</tspan>\n",
              "    <tspan class=\"displacy-tag\" dy=\"2em\" fill=\"currentColor\" x=\"925\">PROPN</tspan>\n",
              "</text>\n",
              "\n",
              "<g class=\"displacy-arrow\">\n",
              "    <path class=\"displacy-arc\" id=\"arrow-b7e5373656cf4bcf8776ca72251788d7-0-0\" stroke-width=\"2px\" d=\"M70,264.5 C70,2.0 575.0,2.0 575.0,264.5\" fill=\"none\" stroke=\"currentColor\"/>\n",
              "    <text dy=\"1.25em\" style=\"font-size: 0.8em; letter-spacing: 1px\">\n",
              "        <textPath xlink:href=\"#arrow-b7e5373656cf4bcf8776ca72251788d7-0-0\" class=\"displacy-label\" startOffset=\"50%\" side=\"left\" fill=\"currentColor\" text-anchor=\"middle\">nsubjpass</textPath>\n",
              "    </text>\n",
              "    <path class=\"displacy-arrowhead\" d=\"M70,266.5 L62,254.5 78,254.5\" fill=\"currentColor\"/>\n",
              "</g>\n",
              "\n",
              "<g class=\"displacy-arrow\">\n",
              "    <path class=\"displacy-arc\" id=\"arrow-b7e5373656cf4bcf8776ca72251788d7-0-1\" stroke-width=\"2px\" d=\"M245,264.5 C245,89.5 570.0,89.5 570.0,264.5\" fill=\"none\" stroke=\"currentColor\"/>\n",
              "    <text dy=\"1.25em\" style=\"font-size: 0.8em; letter-spacing: 1px\">\n",
              "        <textPath xlink:href=\"#arrow-b7e5373656cf4bcf8776ca72251788d7-0-1\" class=\"displacy-label\" startOffset=\"50%\" side=\"left\" fill=\"currentColor\" text-anchor=\"middle\">auxpass</textPath>\n",
              "    </text>\n",
              "    <path class=\"displacy-arrowhead\" d=\"M245,266.5 L237,254.5 253,254.5\" fill=\"currentColor\"/>\n",
              "</g>\n",
              "\n",
              "<g class=\"displacy-arrow\">\n",
              "    <path class=\"displacy-arc\" id=\"arrow-b7e5373656cf4bcf8776ca72251788d7-0-2\" stroke-width=\"2px\" d=\"M420,264.5 C420,177.0 565.0,177.0 565.0,264.5\" fill=\"none\" stroke=\"currentColor\"/>\n",
              "    <text dy=\"1.25em\" style=\"font-size: 0.8em; letter-spacing: 1px\">\n",
              "        <textPath xlink:href=\"#arrow-b7e5373656cf4bcf8776ca72251788d7-0-2\" class=\"displacy-label\" startOffset=\"50%\" side=\"left\" fill=\"currentColor\" text-anchor=\"middle\">advmod</textPath>\n",
              "    </text>\n",
              "    <path class=\"displacy-arrowhead\" d=\"M420,266.5 L412,254.5 428,254.5\" fill=\"currentColor\"/>\n",
              "</g>\n",
              "\n",
              "<g class=\"displacy-arrow\">\n",
              "    <path class=\"displacy-arc\" id=\"arrow-b7e5373656cf4bcf8776ca72251788d7-0-3\" stroke-width=\"2px\" d=\"M595,264.5 C595,177.0 740.0,177.0 740.0,264.5\" fill=\"none\" stroke=\"currentColor\"/>\n",
              "    <text dy=\"1.25em\" style=\"font-size: 0.8em; letter-spacing: 1px\">\n",
              "        <textPath xlink:href=\"#arrow-b7e5373656cf4bcf8776ca72251788d7-0-3\" class=\"displacy-label\" startOffset=\"50%\" side=\"left\" fill=\"currentColor\" text-anchor=\"middle\">agent</textPath>\n",
              "    </text>\n",
              "    <path class=\"displacy-arrowhead\" d=\"M740.0,266.5 L748.0,254.5 732.0,254.5\" fill=\"currentColor\"/>\n",
              "</g>\n",
              "\n",
              "<g class=\"displacy-arrow\">\n",
              "    <path class=\"displacy-arc\" id=\"arrow-b7e5373656cf4bcf8776ca72251788d7-0-4\" stroke-width=\"2px\" d=\"M770,264.5 C770,177.0 915.0,177.0 915.0,264.5\" fill=\"none\" stroke=\"currentColor\"/>\n",
              "    <text dy=\"1.25em\" style=\"font-size: 0.8em; letter-spacing: 1px\">\n",
              "        <textPath xlink:href=\"#arrow-b7e5373656cf4bcf8776ca72251788d7-0-4\" class=\"displacy-label\" startOffset=\"50%\" side=\"left\" fill=\"currentColor\" text-anchor=\"middle\">pobj</textPath>\n",
              "    </text>\n",
              "    <path class=\"displacy-arrowhead\" d=\"M915.0,266.5 L923.0,254.5 907.0,254.5\" fill=\"currentColor\"/>\n",
              "</g>\n",
              "</svg></span>"
            ]
          },
          "metadata": {}
        }
      ]
    },
    {
      "cell_type": "code",
      "metadata": {
        "id": "95AN0i7Q1vF2",
        "colab": {
          "base_uri": "https://localhost:8080/"
        },
        "outputId": "405ea315-d083-46db-b4e3-561d1c6aaefc"
      },
      "source": [
        "text = \"Tableau was recently acquired by Salesforce.\"\n",
        "doc = nlp(text)\n",
        "\n",
        "for tok in doc:\n",
        "  print(tok.text,\"-->\",tok.dep_,\"-->\",tok.pos_)"
      ],
      "execution_count": null,
      "outputs": [
        {
          "output_type": "stream",
          "name": "stdout",
          "text": [
            "Tableau --> nsubjpass --> PROPN\n",
            "was --> auxpass --> AUX\n",
            "recently --> advmod --> ADV\n",
            "acquired --> ROOT --> VERB\n",
            "by --> agent --> ADP\n",
            "Salesforce --> pobj --> PROPN\n",
            ". --> punct --> PUNCT\n"
          ]
        }
      ]
    },
    {
      "cell_type": "code",
      "metadata": {
        "id": "beepiV1N12y-"
      },
      "source": [
        "def subtree_matcher(doc):\n",
        "  x = ''\n",
        "  y = ''\n",
        "\n",
        "  # iterate through all the tokens in the input sentence\n",
        "  for i,tok in enumerate(doc):\n",
        "    # extract subject\n",
        "    if tok.dep_.find(\"subjpass\") == True:\n",
        "      y = tok.text\n",
        "\n",
        "    # extract object\n",
        "    if tok.dep_.endswith(\"obj\") == True:\n",
        "      x = tok.text\n",
        "\n",
        "  return x,y"
      ],
      "execution_count": null,
      "outputs": []
    },
    {
      "cell_type": "markdown",
      "metadata": {
        "id": "sFYANtvT1-I_"
      },
      "source": [
        "In this case, we just have to find all those sentences that:\n",
        "Have two entities, and\n",
        "The term “acquired” as the only ROOT in the sentence\n",
        "We can then capture the subject and the object from the sentences. Let’s call the above function:"
      ]
    },
    {
      "cell_type": "code",
      "metadata": {
        "id": "1kNt1M_N2CiW",
        "colab": {
          "base_uri": "https://localhost:8080/"
        },
        "outputId": "24920178-1b11-4b92-db26-0e3907e7fc0d"
      },
      "source": [
        "subtree_matcher(doc)"
      ],
      "execution_count": null,
      "outputs": [
        {
          "output_type": "execute_result",
          "data": {
            "text/plain": [
              "('Salesforce', 'Tableau')"
            ]
          },
          "metadata": {},
          "execution_count": 21
        }
      ]
    },
    {
      "cell_type": "markdown",
      "metadata": {
        "id": "OjaAf7_f2H-B"
      },
      "source": [
        "Here, the subject is the acquirer and the object is the entity that is getting acquired. Let’s use the same function, subtree_matcher( ), to extract entities related by the same relation (“acquired”):\n",
        "But wait — what if I change the sentence from passive to active voice? Will our logic still work?"
      ]
    },
    {
      "cell_type": "code",
      "metadata": {
        "id": "933ydxrR2JDB",
        "colab": {
          "base_uri": "https://localhost:8080/"
        },
        "outputId": "d38826b5-ace6-4574-baba-1e69e158d6ee"
      },
      "source": [
        "text_3 = \"Salesforce recently acquired Tableau.\"\n",
        "doc_3 = nlp(text_3)\n",
        "subtree_matcher(doc_3)"
      ],
      "execution_count": null,
      "outputs": [
        {
          "output_type": "execute_result",
          "data": {
            "text/plain": [
              "('Tableau', '')"
            ]
          },
          "metadata": {},
          "execution_count": 22
        }
      ]
    },
    {
      "cell_type": "code",
      "metadata": {
        "id": "9z_beus62ZEe",
        "colab": {
          "base_uri": "https://localhost:8080/"
        },
        "outputId": "e26f720f-af81-4844-faf9-c23f39a0acee"
      },
      "source": [
        "for tok in doc_3:\n",
        "  print(tok.text, \"-->\",tok.dep_, \"-->\",tok.pos_)"
      ],
      "execution_count": null,
      "outputs": [
        {
          "output_type": "stream",
          "name": "stdout",
          "text": [
            "Salesforce --> nsubj --> NOUN\n",
            "recently --> advmod --> ADV\n",
            "acquired --> ROOT --> VERB\n",
            "Tableau --> dobj --> PROPN\n",
            ". --> punct --> PUNCT\n"
          ]
        }
      ]
    },
    {
      "cell_type": "code",
      "metadata": {
        "id": "wTOS0m0l2hF3"
      },
      "source": [
        "def subtree_matcher(doc):\n",
        "  subjpass = 0\n",
        "\n",
        "  for i,tok in enumerate(doc):\n",
        "    # find dependency tag that contains the text \"subjpass\"\n",
        "    if tok.dep_.find(\"subjpass\") == True:\n",
        "      subjpass = 1\n",
        "\n",
        "  x = ''\n",
        "  y = ''\n",
        "\n",
        "  # if subjpass == 1 then sentence is passive\n",
        "  if subjpass == 1:\n",
        "    for i,tok in enumerate(doc):\n",
        "      if tok.dep_.find(\"subjpass\") == True:\n",
        "        y = tok.text\n",
        "\n",
        "      if tok.dep_.endswith(\"obj\") == True:\n",
        "        x = tok.text\n",
        "\n",
        "  # if subjpass == 0 then sentence is not passive\n",
        "  else:\n",
        "    for i,tok in enumerate(doc):\n",
        "      if tok.dep_.endswith(\"subj\") == True:\n",
        "        x = tok.text\n",
        "\n",
        "      if tok.dep_.endswith(\"obj\") == True:\n",
        "        y = tok.text\n",
        "\n",
        "  return x,y"
      ],
      "execution_count": null,
      "outputs": []
    },
    {
      "cell_type": "code",
      "metadata": {
        "id": "4xqtpSt62rbA",
        "colab": {
          "base_uri": "https://localhost:8080/"
        },
        "outputId": "2f4ed520-b282-4b65-ee2c-c36ea1c9506d"
      },
      "source": [
        "subtree_matcher(doc_3)"
      ],
      "execution_count": null,
      "outputs": [
        {
          "output_type": "execute_result",
          "data": {
            "text/plain": [
              "('Salesforce', 'Tableau')"
            ]
          },
          "metadata": {},
          "execution_count": 25
        }
      ]
    }
  ]
}